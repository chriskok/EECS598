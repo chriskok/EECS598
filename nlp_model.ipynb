{
 "cells": [
  {
   "cell_type": "code",
   "execution_count": 1,
   "metadata": {
    "_cell_guid": "b1076dfc-b9ad-4769-8c92-a6c4dae69d19",
    "_uuid": "8f2839f25d086af736a60e9eeb907d3b93b6e0e5",
    "execution": {
     "iopub.execute_input": "2020-12-03T16:57:08.904754Z",
     "iopub.status.busy": "2020-12-03T16:57:08.904081Z",
     "iopub.status.idle": "2020-12-03T16:57:08.915814Z",
     "shell.execute_reply": "2020-12-03T16:57:08.915052Z"
    },
    "papermill": {
     "duration": 0.061926,
     "end_time": "2020-12-03T16:57:08.915968",
     "exception": false,
     "start_time": "2020-12-03T16:57:08.854042",
     "status": "completed"
    },
    "tags": []
   },
   "outputs": [],
   "source": [
    "import numpy as np # linear algebra\n",
    "import pandas as pd # data processing, CSV file I/O (e.g. pd.read_csv)\n",
    "import os\n"
   ]
  },
  {
   "attachments": {},
   "cell_type": "markdown",
   "metadata": {
    "papermill": {
     "duration": 0.047959,
     "end_time": "2020-12-03T16:57:09.011919",
     "exception": false,
     "start_time": "2020-12-03T16:57:08.963960",
     "status": "completed"
    },
    "tags": []
   },
   "source": [
    "## Loading Necessary libraries"
   ]
  },
  {
   "cell_type": "code",
   "execution_count": 3,
   "metadata": {
    "_cell_guid": "79c7e3d0-c299-4dcb-8224-4455121ee9b0",
    "_uuid": "d629ff2d2480ee46fbb7e2d37f6b5fab8052498a",
    "execution": {
     "iopub.execute_input": "2020-12-03T16:57:09.117634Z",
     "iopub.status.busy": "2020-12-03T16:57:09.116877Z",
     "iopub.status.idle": "2020-12-03T16:57:15.885734Z",
     "shell.execute_reply": "2020-12-03T16:57:15.884850Z"
    },
    "papermill": {
     "duration": 6.824029,
     "end_time": "2020-12-03T16:57:15.885855",
     "exception": false,
     "start_time": "2020-12-03T16:57:09.061826",
     "status": "completed"
    },
    "tags": []
   },
   "outputs": [
    {
     "ename": "",
     "evalue": "",
     "output_type": "error",
     "traceback": [
      "\u001b[1;31mThe Kernel crashed while executing code in the the current cell or a previous cell. Please review the code in the cell(s) to identify a possible cause of the failure. Click <a href='https://aka.ms/vscodeJupyterKernelCrash'>here</a> for more info. View Jupyter <a href='command:jupyter.viewOutput'>log</a> for further details."
     ]
    },
    {
     "ename": "",
     "evalue": "",
     "output_type": "error",
     "traceback": [
      "\u001b[1;31mCanceled future for execute_request message before replies were done"
     ]
    }
   ],
   "source": [
    "import nltk\n",
    "from nltk.corpus import stopwords\n",
    "from nltk.stem.porter import PorterStemmer\n",
    "# from wordcloud import WordCloud,STOPWORDS\n",
    "from nltk.stem import WordNetLemmatizer\n",
    "from nltk.tokenize import word_tokenize,sent_tokenize\n",
    "# from bs4 import BeautifulSoup\n",
    "import re,string,unicodedata\n",
    "from keras.preprocessing import text, sequence\n",
    "from sklearn.metrics import classification_report,confusion_matrix,accuracy_score\n",
    "from sklearn.model_selection import train_test_split\n",
    "from string import punctuation\n",
    "import keras\n",
    "from keras.models import Sequential\n",
    "import tensorflow as tf\n",
    "\n",
    "import matplotlib.pyplot as plt\n",
    "import seaborn as sns\n",
    "\n",
    "from tensorflow.keras.preprocessing.text import Tokenizer\n",
    "from tensorflow.keras.preprocessing.sequence import pad_sequences\n",
    "\n",
    "import tensorflow as tf"
   ]
  },
  {
   "attachments": {},
   "cell_type": "markdown",
   "metadata": {
    "papermill": {
     "duration": 0.041894,
     "end_time": "2020-12-03T16:57:15.971302",
     "exception": false,
     "start_time": "2020-12-03T16:57:15.929408",
     "status": "completed"
    },
    "tags": []
   },
   "source": [
    "## Reading the dataset "
   ]
  },
  {
   "cell_type": "code",
   "execution_count": 3,
   "metadata": {
    "execution": {
     "iopub.execute_input": "2020-12-03T16:57:16.066061Z",
     "iopub.status.busy": "2020-12-03T16:57:16.065446Z",
     "iopub.status.idle": "2020-12-03T16:57:16.531763Z",
     "shell.execute_reply": "2020-12-03T16:57:16.530953Z"
    },
    "papermill": {
     "duration": 0.51889,
     "end_time": "2020-12-03T16:57:16.531888",
     "exception": false,
     "start_time": "2020-12-03T16:57:16.012998",
     "status": "completed"
    },
    "tags": []
   },
   "outputs": [],
   "source": [
    "train_data = pd.read_csv('./data/Corona_NLP_train.csv', encoding='latin_1')\n",
    "test_data = pd.read_csv(\"./data/Corona_NLP_test.csv\",encoding='latin_1')"
   ]
  },
  {
   "cell_type": "code",
   "execution_count": 4,
   "metadata": {
    "execution": {
     "iopub.execute_input": "2020-12-03T16:57:16.639087Z",
     "iopub.status.busy": "2020-12-03T16:57:16.638119Z",
     "iopub.status.idle": "2020-12-03T16:57:16.648041Z",
     "shell.execute_reply": "2020-12-03T16:57:16.648520Z"
    },
    "papermill": {
     "duration": 0.074103,
     "end_time": "2020-12-03T16:57:16.648639",
     "exception": false,
     "start_time": "2020-12-03T16:57:16.574536",
     "status": "completed"
    },
    "tags": []
   },
   "outputs": [
    {
     "data": {
      "text/html": [
       "<div>\n",
       "<style scoped>\n",
       "    .dataframe tbody tr th:only-of-type {\n",
       "        vertical-align: middle;\n",
       "    }\n",
       "\n",
       "    .dataframe tbody tr th {\n",
       "        vertical-align: top;\n",
       "    }\n",
       "\n",
       "    .dataframe thead th {\n",
       "        text-align: right;\n",
       "    }\n",
       "</style>\n",
       "<table border=\"1\" class=\"dataframe\">\n",
       "  <thead>\n",
       "    <tr style=\"text-align: right;\">\n",
       "      <th></th>\n",
       "      <th>UserName</th>\n",
       "      <th>ScreenName</th>\n",
       "      <th>Location</th>\n",
       "      <th>TweetAt</th>\n",
       "      <th>OriginalTweet</th>\n",
       "      <th>Sentiment</th>\n",
       "    </tr>\n",
       "  </thead>\n",
       "  <tbody>\n",
       "    <tr>\n",
       "      <th>0</th>\n",
       "      <td>3799</td>\n",
       "      <td>48751</td>\n",
       "      <td>London</td>\n",
       "      <td>16-03-2020</td>\n",
       "      <td>@MeNyrbie @Phil_Gahan @Chrisitv https://t.co/i...</td>\n",
       "      <td>Neutral</td>\n",
       "    </tr>\n",
       "    <tr>\n",
       "      <th>1</th>\n",
       "      <td>3800</td>\n",
       "      <td>48752</td>\n",
       "      <td>UK</td>\n",
       "      <td>16-03-2020</td>\n",
       "      <td>advice Talk to your neighbours family to excha...</td>\n",
       "      <td>Positive</td>\n",
       "    </tr>\n",
       "    <tr>\n",
       "      <th>2</th>\n",
       "      <td>3801</td>\n",
       "      <td>48753</td>\n",
       "      <td>Vagabonds</td>\n",
       "      <td>16-03-2020</td>\n",
       "      <td>Coronavirus Australia: Woolworths to give elde...</td>\n",
       "      <td>Positive</td>\n",
       "    </tr>\n",
       "    <tr>\n",
       "      <th>3</th>\n",
       "      <td>3802</td>\n",
       "      <td>48754</td>\n",
       "      <td>NaN</td>\n",
       "      <td>16-03-2020</td>\n",
       "      <td>My food stock is not the only one which is emp...</td>\n",
       "      <td>Positive</td>\n",
       "    </tr>\n",
       "    <tr>\n",
       "      <th>4</th>\n",
       "      <td>3803</td>\n",
       "      <td>48755</td>\n",
       "      <td>NaN</td>\n",
       "      <td>16-03-2020</td>\n",
       "      <td>Me, ready to go at supermarket during the #COV...</td>\n",
       "      <td>Extremely Negative</td>\n",
       "    </tr>\n",
       "  </tbody>\n",
       "</table>\n",
       "</div>"
      ],
      "text/plain": [
       "   UserName  ScreenName   Location     TweetAt  \\\n",
       "0      3799       48751     London  16-03-2020   \n",
       "1      3800       48752         UK  16-03-2020   \n",
       "2      3801       48753  Vagabonds  16-03-2020   \n",
       "3      3802       48754        NaN  16-03-2020   \n",
       "4      3803       48755        NaN  16-03-2020   \n",
       "\n",
       "                                       OriginalTweet           Sentiment  \n",
       "0  @MeNyrbie @Phil_Gahan @Chrisitv https://t.co/i...             Neutral  \n",
       "1  advice Talk to your neighbours family to excha...            Positive  \n",
       "2  Coronavirus Australia: Woolworths to give elde...            Positive  \n",
       "3  My food stock is not the only one which is emp...            Positive  \n",
       "4  Me, ready to go at supermarket during the #COV...  Extremely Negative  "
      ]
     },
     "execution_count": 4,
     "metadata": {},
     "output_type": "execute_result"
    }
   ],
   "source": [
    "train_data.head()"
   ]
  },
  {
   "cell_type": "code",
   "execution_count": 5,
   "metadata": {
    "execution": {
     "iopub.execute_input": "2020-12-03T16:57:16.744548Z",
     "iopub.status.busy": "2020-12-03T16:57:16.743862Z",
     "iopub.status.idle": "2020-12-03T16:57:16.749789Z",
     "shell.execute_reply": "2020-12-03T16:57:16.749130Z"
    },
    "papermill": {
     "duration": 0.058474,
     "end_time": "2020-12-03T16:57:16.749888",
     "exception": false,
     "start_time": "2020-12-03T16:57:16.691414",
     "status": "completed"
    },
    "tags": []
   },
   "outputs": [
    {
     "data": {
      "text/html": [
       "<div>\n",
       "<style scoped>\n",
       "    .dataframe tbody tr th:only-of-type {\n",
       "        vertical-align: middle;\n",
       "    }\n",
       "\n",
       "    .dataframe tbody tr th {\n",
       "        vertical-align: top;\n",
       "    }\n",
       "\n",
       "    .dataframe thead th {\n",
       "        text-align: right;\n",
       "    }\n",
       "</style>\n",
       "<table border=\"1\" class=\"dataframe\">\n",
       "  <thead>\n",
       "    <tr style=\"text-align: right;\">\n",
       "      <th></th>\n",
       "      <th>UserName</th>\n",
       "      <th>ScreenName</th>\n",
       "      <th>Location</th>\n",
       "      <th>TweetAt</th>\n",
       "      <th>OriginalTweet</th>\n",
       "      <th>Sentiment</th>\n",
       "    </tr>\n",
       "  </thead>\n",
       "  <tbody>\n",
       "    <tr>\n",
       "      <th>0</th>\n",
       "      <td>1</td>\n",
       "      <td>44953</td>\n",
       "      <td>NYC</td>\n",
       "      <td>02-03-2020</td>\n",
       "      <td>TRENDING: New Yorkers encounter empty supermar...</td>\n",
       "      <td>Extremely Negative</td>\n",
       "    </tr>\n",
       "    <tr>\n",
       "      <th>1</th>\n",
       "      <td>2</td>\n",
       "      <td>44954</td>\n",
       "      <td>Seattle, WA</td>\n",
       "      <td>02-03-2020</td>\n",
       "      <td>When I couldn't find hand sanitizer at Fred Me...</td>\n",
       "      <td>Positive</td>\n",
       "    </tr>\n",
       "    <tr>\n",
       "      <th>2</th>\n",
       "      <td>3</td>\n",
       "      <td>44955</td>\n",
       "      <td>NaN</td>\n",
       "      <td>02-03-2020</td>\n",
       "      <td>Find out how you can protect yourself and love...</td>\n",
       "      <td>Extremely Positive</td>\n",
       "    </tr>\n",
       "    <tr>\n",
       "      <th>3</th>\n",
       "      <td>4</td>\n",
       "      <td>44956</td>\n",
       "      <td>Chicagoland</td>\n",
       "      <td>02-03-2020</td>\n",
       "      <td>#Panic buying hits #NewYork City as anxious sh...</td>\n",
       "      <td>Negative</td>\n",
       "    </tr>\n",
       "    <tr>\n",
       "      <th>4</th>\n",
       "      <td>5</td>\n",
       "      <td>44957</td>\n",
       "      <td>Melbourne, Victoria</td>\n",
       "      <td>03-03-2020</td>\n",
       "      <td>#toiletpaper #dunnypaper #coronavirus #coronav...</td>\n",
       "      <td>Neutral</td>\n",
       "    </tr>\n",
       "  </tbody>\n",
       "</table>\n",
       "</div>"
      ],
      "text/plain": [
       "   UserName  ScreenName             Location     TweetAt  \\\n",
       "0         1       44953                  NYC  02-03-2020   \n",
       "1         2       44954          Seattle, WA  02-03-2020   \n",
       "2         3       44955                  NaN  02-03-2020   \n",
       "3         4       44956          Chicagoland  02-03-2020   \n",
       "4         5       44957  Melbourne, Victoria  03-03-2020   \n",
       "\n",
       "                                       OriginalTweet           Sentiment  \n",
       "0  TRENDING: New Yorkers encounter empty supermar...  Extremely Negative  \n",
       "1  When I couldn't find hand sanitizer at Fred Me...            Positive  \n",
       "2  Find out how you can protect yourself and love...  Extremely Positive  \n",
       "3  #Panic buying hits #NewYork City as anxious sh...            Negative  \n",
       "4  #toiletpaper #dunnypaper #coronavirus #coronav...             Neutral  "
      ]
     },
     "execution_count": 5,
     "metadata": {},
     "output_type": "execute_result"
    }
   ],
   "source": [
    "test_data.head()"
   ]
  },
  {
   "attachments": {},
   "cell_type": "markdown",
   "metadata": {
    "papermill": {
     "duration": 0.045556,
     "end_time": "2020-12-03T16:57:17.969883",
     "exception": false,
     "start_time": "2020-12-03T16:57:17.924327",
     "status": "completed"
    },
    "tags": []
   },
   "source": [
    "## drop duplicate and 'NA' value/s"
   ]
  },
  {
   "cell_type": "code",
   "execution_count": 8,
   "metadata": {
    "execution": {
     "iopub.execute_input": "2020-12-03T16:57:18.069834Z",
     "iopub.status.busy": "2020-12-03T16:57:18.069119Z",
     "iopub.status.idle": "2020-12-03T16:57:18.137851Z",
     "shell.execute_reply": "2020-12-03T16:57:18.137283Z"
    },
    "papermill": {
     "duration": 0.121218,
     "end_time": "2020-12-03T16:57:18.137960",
     "exception": false,
     "start_time": "2020-12-03T16:57:18.016742",
     "status": "completed"
    },
    "tags": []
   },
   "outputs": [],
   "source": [
    "train_data.drop_duplicates(inplace= True)\n",
    "test_data.drop_duplicates(inplace=True)"
   ]
  },
  {
   "cell_type": "code",
   "execution_count": 9,
   "metadata": {
    "execution": {
     "iopub.execute_input": "2020-12-03T16:57:18.252581Z",
     "iopub.status.busy": "2020-12-03T16:57:18.251605Z",
     "iopub.status.idle": "2020-12-03T16:57:18.280606Z",
     "shell.execute_reply": "2020-12-03T16:57:18.280081Z"
    },
    "papermill": {
     "duration": 0.095716,
     "end_time": "2020-12-03T16:57:18.280718",
     "exception": false,
     "start_time": "2020-12-03T16:57:18.185002",
     "status": "completed"
    },
    "tags": []
   },
   "outputs": [],
   "source": [
    "train_data.dropna(inplace=True)\n",
    "test_data.dropna(inplace=True)"
   ]
  },
  {
   "cell_type": "markdown",
   "metadata": {
    "papermill": {
     "duration": 0.045332,
     "end_time": "2020-12-03T16:57:18.371760",
     "exception": false,
     "start_time": "2020-12-03T16:57:18.326428",
     "status": "completed"
    },
    "tags": []
   },
   "source": [
    "## Making checkpoint 🧐"
   ]
  },
  {
   "cell_type": "code",
   "execution_count": 10,
   "metadata": {
    "execution": {
     "iopub.execute_input": "2020-12-03T16:57:18.468255Z",
     "iopub.status.busy": "2020-12-03T16:57:18.467298Z",
     "iopub.status.idle": "2020-12-03T16:57:18.471945Z",
     "shell.execute_reply": "2020-12-03T16:57:18.471443Z"
    },
    "papermill": {
     "duration": 0.054978,
     "end_time": "2020-12-03T16:57:18.472046",
     "exception": false,
     "start_time": "2020-12-03T16:57:18.417068",
     "status": "completed"
    },
    "tags": []
   },
   "outputs": [],
   "source": [
    "# copy the dataset into new data\n",
    "train_df = train_data.copy()\n",
    "test_df = test_data.copy()"
   ]
  },
  {
   "cell_type": "code",
   "execution_count": 11,
   "metadata": {
    "execution": {
     "iopub.execute_input": "2020-12-03T16:57:18.574757Z",
     "iopub.status.busy": "2020-12-03T16:57:18.573881Z",
     "iopub.status.idle": "2020-12-03T16:57:18.578126Z",
     "shell.execute_reply": "2020-12-03T16:57:18.577661Z"
    },
    "papermill": {
     "duration": 0.060918,
     "end_time": "2020-12-03T16:57:18.578221",
     "exception": false,
     "start_time": "2020-12-03T16:57:18.517303",
     "status": "completed"
    },
    "tags": []
   },
   "outputs": [
    {
     "data": {
      "text/html": [
       "<div>\n",
       "<style scoped>\n",
       "    .dataframe tbody tr th:only-of-type {\n",
       "        vertical-align: middle;\n",
       "    }\n",
       "\n",
       "    .dataframe tbody tr th {\n",
       "        vertical-align: top;\n",
       "    }\n",
       "\n",
       "    .dataframe thead th {\n",
       "        text-align: right;\n",
       "    }\n",
       "</style>\n",
       "<table border=\"1\" class=\"dataframe\">\n",
       "  <thead>\n",
       "    <tr style=\"text-align: right;\">\n",
       "      <th></th>\n",
       "      <th>UserName</th>\n",
       "      <th>ScreenName</th>\n",
       "      <th>Location</th>\n",
       "      <th>TweetAt</th>\n",
       "      <th>OriginalTweet</th>\n",
       "      <th>Sentiment</th>\n",
       "    </tr>\n",
       "  </thead>\n",
       "  <tbody>\n",
       "    <tr>\n",
       "      <th>0</th>\n",
       "      <td>3799</td>\n",
       "      <td>48751</td>\n",
       "      <td>London</td>\n",
       "      <td>16-03-2020</td>\n",
       "      <td>@MeNyrbie @Phil_Gahan @Chrisitv https://t.co/i...</td>\n",
       "      <td>Neutral</td>\n",
       "    </tr>\n",
       "    <tr>\n",
       "      <th>1</th>\n",
       "      <td>3800</td>\n",
       "      <td>48752</td>\n",
       "      <td>UK</td>\n",
       "      <td>16-03-2020</td>\n",
       "      <td>advice Talk to your neighbours family to excha...</td>\n",
       "      <td>Positive</td>\n",
       "    </tr>\n",
       "    <tr>\n",
       "      <th>2</th>\n",
       "      <td>3801</td>\n",
       "      <td>48753</td>\n",
       "      <td>Vagabonds</td>\n",
       "      <td>16-03-2020</td>\n",
       "      <td>Coronavirus Australia: Woolworths to give elde...</td>\n",
       "      <td>Positive</td>\n",
       "    </tr>\n",
       "    <tr>\n",
       "      <th>5</th>\n",
       "      <td>3804</td>\n",
       "      <td>48756</td>\n",
       "      <td>ÃT: 36.319708,-82.363649</td>\n",
       "      <td>16-03-2020</td>\n",
       "      <td>As news of the regionÂs first confirmed COVID...</td>\n",
       "      <td>Positive</td>\n",
       "    </tr>\n",
       "    <tr>\n",
       "      <th>6</th>\n",
       "      <td>3805</td>\n",
       "      <td>48757</td>\n",
       "      <td>35.926541,-78.753267</td>\n",
       "      <td>16-03-2020</td>\n",
       "      <td>Cashier at grocery store was sharing his insig...</td>\n",
       "      <td>Positive</td>\n",
       "    </tr>\n",
       "  </tbody>\n",
       "</table>\n",
       "</div>"
      ],
      "text/plain": [
       "   UserName  ScreenName                   Location     TweetAt  \\\n",
       "0      3799       48751                     London  16-03-2020   \n",
       "1      3800       48752                         UK  16-03-2020   \n",
       "2      3801       48753                  Vagabonds  16-03-2020   \n",
       "5      3804       48756  ÃT: 36.319708,-82.363649  16-03-2020   \n",
       "6      3805       48757       35.926541,-78.753267  16-03-2020   \n",
       "\n",
       "                                       OriginalTweet Sentiment  \n",
       "0  @MeNyrbie @Phil_Gahan @Chrisitv https://t.co/i...   Neutral  \n",
       "1  advice Talk to your neighbours family to excha...  Positive  \n",
       "2  Coronavirus Australia: Woolworths to give elde...  Positive  \n",
       "5  As news of the regionÂs first confirmed COVID...  Positive  \n",
       "6  Cashier at grocery store was sharing his insig...  Positive  "
      ]
     },
     "execution_count": 11,
     "metadata": {},
     "output_type": "execute_result"
    }
   ],
   "source": [
    "train_df.head()"
   ]
  },
  {
   "cell_type": "markdown",
   "metadata": {
    "papermill": {
     "duration": 0.046308,
     "end_time": "2020-12-03T16:57:18.671669",
     "exception": false,
     "start_time": "2020-12-03T16:57:18.625361",
     "status": "completed"
    },
    "tags": []
   },
   "source": [
    "## check if any null value exists? 🤨"
   ]
  },
  {
   "cell_type": "code",
   "execution_count": 12,
   "metadata": {
    "execution": {
     "iopub.execute_input": "2020-12-03T16:57:18.783611Z",
     "iopub.status.busy": "2020-12-03T16:57:18.782767Z",
     "iopub.status.idle": "2020-12-03T16:57:18.792207Z",
     "shell.execute_reply": "2020-12-03T16:57:18.791694Z"
    },
    "papermill": {
     "duration": 0.074297,
     "end_time": "2020-12-03T16:57:18.792303",
     "exception": false,
     "start_time": "2020-12-03T16:57:18.718006",
     "status": "completed"
    },
    "tags": []
   },
   "outputs": [
    {
     "name": "stdout",
     "output_type": "stream",
     "text": [
      "UserName         0\n",
      "ScreenName       0\n",
      "Location         0\n",
      "TweetAt          0\n",
      "OriginalTweet    0\n",
      "Sentiment        0\n",
      "dtype: int64\n",
      "**************************************************\n",
      "UserName         0\n",
      "ScreenName       0\n",
      "Location         0\n",
      "TweetAt          0\n",
      "OriginalTweet    0\n",
      "Sentiment        0\n",
      "dtype: int64\n"
     ]
    }
   ],
   "source": [
    "print(train_df.isnull().sum())\n",
    "print(\"*\"*50)\n",
    "print(test_df.isnull().sum())"
   ]
  },
  {
   "cell_type": "code",
   "execution_count": 13,
   "metadata": {
    "execution": {
     "iopub.execute_input": "2020-12-03T16:57:18.890755Z",
     "iopub.status.busy": "2020-12-03T16:57:18.889902Z",
     "iopub.status.idle": "2020-12-03T16:57:18.893476Z",
     "shell.execute_reply": "2020-12-03T16:57:18.893993Z"
    },
    "papermill": {
     "duration": 0.055338,
     "end_time": "2020-12-03T16:57:18.894102",
     "exception": false,
     "start_time": "2020-12-03T16:57:18.838764",
     "status": "completed"
    },
    "tags": []
   },
   "outputs": [
    {
     "data": {
      "text/plain": [
       "Index(['UserName', 'ScreenName', 'Location', 'TweetAt', 'OriginalTweet',\n",
       "       'Sentiment'],\n",
       "      dtype='object')"
      ]
     },
     "execution_count": 13,
     "metadata": {},
     "output_type": "execute_result"
    }
   ],
   "source": [
    "train_data.columns"
   ]
  },
  {
   "cell_type": "markdown",
   "metadata": {
    "papermill": {
     "duration": 0.046958,
     "end_time": "2020-12-03T16:57:18.988002",
     "exception": false,
     "start_time": "2020-12-03T16:57:18.941044",
     "status": "completed"
    },
    "tags": []
   },
   "source": [
    "## performing small EDA 🤩"
   ]
  },
  {
   "cell_type": "code",
   "execution_count": 14,
   "metadata": {
    "execution": {
     "iopub.execute_input": "2020-12-03T16:57:19.090487Z",
     "iopub.status.busy": "2020-12-03T16:57:19.089852Z",
     "iopub.status.idle": "2020-12-03T16:57:19.094077Z",
     "shell.execute_reply": "2020-12-03T16:57:19.093396Z"
    },
    "papermill": {
     "duration": 0.05801,
     "end_time": "2020-12-03T16:57:19.094182",
     "exception": false,
     "start_time": "2020-12-03T16:57:19.036172",
     "status": "completed"
    },
    "tags": []
   },
   "outputs": [],
   "source": [
    "sns.set_style(\"whitegrid\")\n",
    "sns.set(rc={'figure.figsize':(11,4)})"
   ]
  },
  {
   "cell_type": "code",
   "execution_count": 15,
   "metadata": {
    "execution": {
     "iopub.execute_input": "2020-12-03T16:57:19.199342Z",
     "iopub.status.busy": "2020-12-03T16:57:19.198421Z",
     "iopub.status.idle": "2020-12-03T16:57:19.372655Z",
     "shell.execute_reply": "2020-12-03T16:57:19.373188Z"
    },
    "papermill": {
     "duration": 0.231386,
     "end_time": "2020-12-03T16:57:19.373349",
     "exception": false,
     "start_time": "2020-12-03T16:57:19.141963",
     "status": "completed"
    },
    "tags": []
   },
   "outputs": [
    {
     "data": {
      "text/plain": [
       "<matplotlib.axes._subplots.AxesSubplot at 0x7f8ace211810>"
      ]
     },
     "execution_count": 15,
     "metadata": {},
     "output_type": "execute_result"
    },
    {
     "data": {
      "image/png": "[encoded data removed]",
      "text/plain": [
       "<Figure size 792x288 with 1 Axes>"
      ]
     },
     "metadata": {},
     "output_type": "display_data"
    }
   ],
   "source": [
    "sns.countplot(train_df['Sentiment'])"
   ]
  },
  {
   "cell_type": "code",
   "execution_count": 16,
   "metadata": {
    "execution": {
     "iopub.execute_input": "2020-12-03T16:57:19.484292Z",
     "iopub.status.busy": "2020-12-03T16:57:19.483527Z",
     "iopub.status.idle": "2020-12-03T16:57:19.486841Z",
     "shell.execute_reply": "2020-12-03T16:57:19.487361Z"
    },
    "papermill": {
     "duration": 0.061612,
     "end_time": "2020-12-03T16:57:19.487521",
     "exception": false,
     "start_time": "2020-12-03T16:57:19.425909",
     "status": "completed"
    },
    "tags": []
   },
   "outputs": [
    {
     "data": {
      "text/plain": [
       "((32567, 6), (2964, 6))"
      ]
     },
     "execution_count": 16,
     "metadata": {},
     "output_type": "execute_result"
    }
   ],
   "source": [
    "train_df.shape, test_df.shape"
   ]
  },
  {
   "cell_type": "markdown",
   "metadata": {
    "papermill": {
     "duration": 0.050819,
     "end_time": "2020-12-03T16:57:19.587008",
     "exception": false,
     "start_time": "2020-12-03T16:57:19.536189",
     "status": "completed"
    },
    "tags": []
   },
   "source": [
    "**As we can see we have 5 types of sentiment (but we can make extremely positive into positive and extremely negative into negative )**  😎"
   ]
  },
  {
   "cell_type": "code",
   "execution_count": 17,
   "metadata": {
    "execution": {
     "iopub.execute_input": "2020-12-03T16:57:19.695155Z",
     "iopub.status.busy": "2020-12-03T16:57:19.694266Z",
     "iopub.status.idle": "2020-12-03T16:57:19.697226Z",
     "shell.execute_reply": "2020-12-03T16:57:19.696710Z"
    },
    "papermill": {
     "duration": 0.060599,
     "end_time": "2020-12-03T16:57:19.697324",
     "exception": false,
     "start_time": "2020-12-03T16:57:19.636725",
     "status": "completed"
    },
    "tags": []
   },
   "outputs": [],
   "source": [
    "def change_sen(sentiment):\n",
    "    if sentiment == \"Extremely Positive\":\n",
    "        return 'positive'\n",
    "    elif sentiment == \"Extremely Negative\":\n",
    "        return 'negative'\n",
    "    elif sentiment == \"Positive\":\n",
    "        return 'positive'\n",
    "    elif sentiment == \"Negative\":\n",
    "        return 'negative'\n",
    "    else:\n",
    "        return 'netural'"
   ]
  },
  {
   "cell_type": "markdown",
   "metadata": {
    "papermill": {
     "duration": 0.050012,
     "end_time": "2020-12-03T16:57:19.797099",
     "exception": false,
     "start_time": "2020-12-03T16:57:19.747087",
     "status": "completed"
    },
    "tags": []
   },
   "source": [
    "### Applying the change_sen function/method  😝 "
   ]
  },
  {
   "cell_type": "code",
   "execution_count": 18,
   "metadata": {
    "execution": {
     "iopub.execute_input": "2020-12-03T16:57:19.916107Z",
     "iopub.status.busy": "2020-12-03T16:57:19.905944Z",
     "iopub.status.idle": "2020-12-03T16:57:19.924285Z",
     "shell.execute_reply": "2020-12-03T16:57:19.923802Z"
    },
    "papermill": {
     "duration": 0.077946,
     "end_time": "2020-12-03T16:57:19.924386",
     "exception": false,
     "start_time": "2020-12-03T16:57:19.846440",
     "status": "completed"
    },
    "tags": []
   },
   "outputs": [],
   "source": [
    "train_df['Sentiment'] = train_df['Sentiment'].apply(lambda x: change_sen(x))\n",
    "test_df['Sentiment'] = test_df['Sentiment'].apply(lambda x: change_sen(x))"
   ]
  },
  {
   "cell_type": "code",
   "execution_count": 19,
   "metadata": {
    "execution": {
     "iopub.execute_input": "2020-12-03T16:57:20.030267Z",
     "iopub.status.busy": "2020-12-03T16:57:20.029424Z",
     "iopub.status.idle": "2020-12-03T16:57:20.188593Z",
     "shell.execute_reply": "2020-12-03T16:57:20.189145Z"
    },
    "papermill": {
     "duration": 0.214853,
     "end_time": "2020-12-03T16:57:20.189292",
     "exception": false,
     "start_time": "2020-12-03T16:57:19.974439",
     "status": "completed"
    },
    "tags": []
   },
   "outputs": [
    {
     "data": {
      "text/plain": [
       "<matplotlib.axes._subplots.AxesSubplot at 0x7f8ace1d9ed0>"
      ]
     },
     "execution_count": 19,
     "metadata": {},
     "output_type": "execute_result"
    },
    {
     "data": {
      "image/png": "[encoded data removed]",
      "text/plain": [
       "<Figure size 792x288 with 1 Axes>"
      ]
     },
     "metadata": {},
     "output_type": "display_data"
    }
   ],
   "source": [
    "sns.countplot(train_df['Sentiment'])"
   ]
  },
  {
   "cell_type": "code",
   "execution_count": 20,
   "metadata": {
    "execution": {
     "iopub.execute_input": "2020-12-03T16:57:20.303481Z",
     "iopub.status.busy": "2020-12-03T16:57:20.300974Z",
     "iopub.status.idle": "2020-12-03T16:57:20.452018Z",
     "shell.execute_reply": "2020-12-03T16:57:20.451441Z"
    },
    "papermill": {
     "duration": 0.207523,
     "end_time": "2020-12-03T16:57:20.452127",
     "exception": false,
     "start_time": "2020-12-03T16:57:20.244604",
     "status": "completed"
    },
    "tags": []
   },
   "outputs": [
    {
     "data": {
      "text/plain": [
       "<matplotlib.axes._subplots.AxesSubplot at 0x7f8ace151090>"
      ]
     },
     "execution_count": 20,
     "metadata": {},
     "output_type": "execute_result"
    },
    {
     "data": {
      "image/png": "[encoded data removed]",
      "text/plain": [
       "<Figure size 792x288 with 1 Axes>"
      ]
     },
     "metadata": {},
     "output_type": "display_data"
    }
   ],
   "source": [
    "sns.countplot(test_df['Sentiment'])"
   ]
  },
  {
   "cell_type": "markdown",
   "metadata": {
    "papermill": {
     "duration": 0.054415,
     "end_time": "2020-12-03T16:57:20.561729",
     "exception": false,
     "start_time": "2020-12-03T16:57:20.507314",
     "status": "completed"
    },
    "tags": []
   },
   "source": [
    "### Now time for \"Data Clearning and processing\"  🤯 "
   ]
  },
  {
   "cell_type": "code",
   "execution_count": 21,
   "metadata": {
    "execution": {
     "iopub.execute_input": "2020-12-03T16:57:20.673937Z",
     "iopub.status.busy": "2020-12-03T16:57:20.673220Z",
     "iopub.status.idle": "2020-12-03T16:57:20.687653Z",
     "shell.execute_reply": "2020-12-03T16:57:20.687099Z"
    },
    "papermill": {
     "duration": 0.072778,
     "end_time": "2020-12-03T16:57:20.687771",
     "exception": false,
     "start_time": "2020-12-03T16:57:20.614993",
     "status": "completed"
    },
    "tags": []
   },
   "outputs": [],
   "source": [
    "# load stop words\n",
    "stop_word = stopwords.words('english')"
   ]
  },
  {
   "cell_type": "code",
   "execution_count": 22,
   "metadata": {
    "execution": {
     "iopub.execute_input": "2020-12-03T16:57:20.803000Z",
     "iopub.status.busy": "2020-12-03T16:57:20.802100Z",
     "iopub.status.idle": "2020-12-03T16:57:20.805268Z",
     "shell.execute_reply": "2020-12-03T16:57:20.804723Z"
    },
    "papermill": {
     "duration": 0.064555,
     "end_time": "2020-12-03T16:57:20.805370",
     "exception": false,
     "start_time": "2020-12-03T16:57:20.740815",
     "status": "completed"
    },
    "tags": []
   },
   "outputs": [],
   "source": [
    "def clean(text):\n",
    "\n",
    "    #     remove urls\n",
    "    text = re.sub(r'http\\S+', \" \", text)\n",
    "\n",
    "    #     remove mentions\n",
    "    text = re.sub(r'@\\w+',' ',text)\n",
    "\n",
    "    #     remove hastags\n",
    "    text = re.sub(r'#\\w+', ' ', text)\n",
    "\n",
    "    #     remove digits\n",
    "    text = re.sub(r'\\d+', ' ', text)\n",
    "\n",
    "    #     remove html tags\n",
    "    text = re.sub('r<.*?>',' ', text)\n",
    "    \n",
    "    #     remove stop words \n",
    "    text = text.split()\n",
    "    text = \" \".join([word for word in text if not word in stop_word])\n",
    "    \n",
    "      \n",
    "    return text"
   ]
  },
  {
   "cell_type": "code",
   "execution_count": 23,
   "metadata": {
    "execution": {
     "iopub.execute_input": "2020-12-03T16:57:20.926768Z",
     "iopub.status.busy": "2020-12-03T16:57:20.916343Z",
     "iopub.status.idle": "2020-12-03T16:57:24.220612Z",
     "shell.execute_reply": "2020-12-03T16:57:24.221247Z"
    },
    "papermill": {
     "duration": 3.36325,
     "end_time": "2020-12-03T16:57:24.221428",
     "exception": false,
     "start_time": "2020-12-03T16:57:20.858178",
     "status": "completed"
    },
    "tags": []
   },
   "outputs": [],
   "source": [
    "train_df['OriginalTweet'] = train_df['OriginalTweet'].apply(lambda x: clean(x))\n",
    "test_df['OriginalTweet'] = test_df['OriginalTweet'].apply(lambda x: clean(x))"
   ]
  },
  {
   "cell_type": "code",
   "execution_count": 24,
   "metadata": {
    "execution": {
     "iopub.execute_input": "2020-12-03T16:57:24.396433Z",
     "iopub.status.busy": "2020-12-03T16:57:24.395390Z",
     "iopub.status.idle": "2020-12-03T16:57:24.399933Z",
     "shell.execute_reply": "2020-12-03T16:57:24.400478Z"
    },
    "papermill": {
     "duration": 0.104026,
     "end_time": "2020-12-03T16:57:24.400605",
     "exception": false,
     "start_time": "2020-12-03T16:57:24.296579",
     "status": "completed"
    },
    "tags": []
   },
   "outputs": [
    {
     "data": {
      "text/html": [
       "<div>\n",
       "<style scoped>\n",
       "    .dataframe tbody tr th:only-of-type {\n",
       "        vertical-align: middle;\n",
       "    }\n",
       "\n",
       "    .dataframe tbody tr th {\n",
       "        vertical-align: top;\n",
       "    }\n",
       "\n",
       "    .dataframe thead th {\n",
       "        text-align: right;\n",
       "    }\n",
       "</style>\n",
       "<table border=\"1\" class=\"dataframe\">\n",
       "  <thead>\n",
       "    <tr style=\"text-align: right;\">\n",
       "      <th></th>\n",
       "      <th>UserName</th>\n",
       "      <th>ScreenName</th>\n",
       "      <th>Location</th>\n",
       "      <th>TweetAt</th>\n",
       "      <th>OriginalTweet</th>\n",
       "      <th>Sentiment</th>\n",
       "    </tr>\n",
       "  </thead>\n",
       "  <tbody>\n",
       "    <tr>\n",
       "      <th>0</th>\n",
       "      <td>3799</td>\n",
       "      <td>48751</td>\n",
       "      <td>London</td>\n",
       "      <td>16-03-2020</td>\n",
       "      <td></td>\n",
       "      <td>netural</td>\n",
       "    </tr>\n",
       "    <tr>\n",
       "      <th>1</th>\n",
       "      <td>3800</td>\n",
       "      <td>48752</td>\n",
       "      <td>UK</td>\n",
       "      <td>16-03-2020</td>\n",
       "      <td>advice Talk neighbours family exchange phone n...</td>\n",
       "      <td>positive</td>\n",
       "    </tr>\n",
       "    <tr>\n",
       "      <th>2</th>\n",
       "      <td>3801</td>\n",
       "      <td>48753</td>\n",
       "      <td>Vagabonds</td>\n",
       "      <td>16-03-2020</td>\n",
       "      <td>Coronavirus Australia: Woolworths give elderly...</td>\n",
       "      <td>positive</td>\n",
       "    </tr>\n",
       "    <tr>\n",
       "      <th>5</th>\n",
       "      <td>3804</td>\n",
       "      <td>48756</td>\n",
       "      <td>ÃT: 36.319708,-82.363649</td>\n",
       "      <td>16-03-2020</td>\n",
       "      <td>As news regionÂs first confirmed COVID- case ...</td>\n",
       "      <td>positive</td>\n",
       "    </tr>\n",
       "    <tr>\n",
       "      <th>6</th>\n",
       "      <td>3805</td>\n",
       "      <td>48757</td>\n",
       "      <td>35.926541,-78.753267</td>\n",
       "      <td>16-03-2020</td>\n",
       "      <td>Cashier grocery store sharing insights To prov...</td>\n",
       "      <td>positive</td>\n",
       "    </tr>\n",
       "  </tbody>\n",
       "</table>\n",
       "</div>"
      ],
      "text/plain": [
       "   UserName  ScreenName                   Location     TweetAt  \\\n",
       "0      3799       48751                     London  16-03-2020   \n",
       "1      3800       48752                         UK  16-03-2020   \n",
       "2      3801       48753                  Vagabonds  16-03-2020   \n",
       "5      3804       48756  ÃT: 36.319708,-82.363649  16-03-2020   \n",
       "6      3805       48757       35.926541,-78.753267  16-03-2020   \n",
       "\n",
       "                                       OriginalTweet Sentiment  \n",
       "0                                                      netural  \n",
       "1  advice Talk neighbours family exchange phone n...  positive  \n",
       "2  Coronavirus Australia: Woolworths give elderly...  positive  \n",
       "5  As news regionÂs first confirmed COVID- case ...  positive  \n",
       "6  Cashier grocery store sharing insights To prov...  positive  "
      ]
     },
     "execution_count": 24,
     "metadata": {},
     "output_type": "execute_result"
    }
   ],
   "source": [
    "train_df.head()"
   ]
  },
  {
   "cell_type": "markdown",
   "metadata": {
    "papermill": {
     "duration": 0.052836,
     "end_time": "2020-12-03T16:57:24.506808",
     "exception": false,
     "start_time": "2020-12-03T16:57:24.453972",
     "status": "completed"
    },
    "tags": []
   },
   "source": [
    "### We only need \"OriginalTweet\" and \"Sentiment\"\n",
    "\n",
    " 😬 \n",
    "\n",
    "##### so only taking these columns"
   ]
  },
  {
   "cell_type": "code",
   "execution_count": 25,
   "metadata": {
    "execution": {
     "iopub.execute_input": "2020-12-03T16:57:24.622104Z",
     "iopub.status.busy": "2020-12-03T16:57:24.618815Z",
     "iopub.status.idle": "2020-12-03T16:57:24.624676Z",
     "shell.execute_reply": "2020-12-03T16:57:24.625215Z"
    },
    "papermill": {
     "duration": 0.064152,
     "end_time": "2020-12-03T16:57:24.625340",
     "exception": false,
     "start_time": "2020-12-03T16:57:24.561188",
     "status": "completed"
    },
    "tags": []
   },
   "outputs": [],
   "source": [
    "df_train = train_df.iloc[:,4:]\n",
    "df_test = test_df.iloc[:,4:]"
   ]
  },
  {
   "cell_type": "code",
   "execution_count": 26,
   "metadata": {
    "execution": {
     "iopub.execute_input": "2020-12-03T16:57:24.743112Z",
     "iopub.status.busy": "2020-12-03T16:57:24.742161Z",
     "iopub.status.idle": "2020-12-03T16:57:24.745723Z",
     "shell.execute_reply": "2020-12-03T16:57:24.746229Z"
    },
    "papermill": {
     "duration": 0.0666,
     "end_time": "2020-12-03T16:57:24.746382",
     "exception": false,
     "start_time": "2020-12-03T16:57:24.679782",
     "status": "completed"
    },
    "tags": []
   },
   "outputs": [
    {
     "data": {
      "text/html": [
       "<div>\n",
       "<style scoped>\n",
       "    .dataframe tbody tr th:only-of-type {\n",
       "        vertical-align: middle;\n",
       "    }\n",
       "\n",
       "    .dataframe tbody tr th {\n",
       "        vertical-align: top;\n",
       "    }\n",
       "\n",
       "    .dataframe thead th {\n",
       "        text-align: right;\n",
       "    }\n",
       "</style>\n",
       "<table border=\"1\" class=\"dataframe\">\n",
       "  <thead>\n",
       "    <tr style=\"text-align: right;\">\n",
       "      <th></th>\n",
       "      <th>OriginalTweet</th>\n",
       "      <th>Sentiment</th>\n",
       "    </tr>\n",
       "  </thead>\n",
       "  <tbody>\n",
       "    <tr>\n",
       "      <th>0</th>\n",
       "      <td></td>\n",
       "      <td>netural</td>\n",
       "    </tr>\n",
       "    <tr>\n",
       "      <th>1</th>\n",
       "      <td>advice Talk neighbours family exchange phone n...</td>\n",
       "      <td>positive</td>\n",
       "    </tr>\n",
       "    <tr>\n",
       "      <th>2</th>\n",
       "      <td>Coronavirus Australia: Woolworths give elderly...</td>\n",
       "      <td>positive</td>\n",
       "    </tr>\n",
       "    <tr>\n",
       "      <th>5</th>\n",
       "      <td>As news regionÂs first confirmed COVID- case ...</td>\n",
       "      <td>positive</td>\n",
       "    </tr>\n",
       "    <tr>\n",
       "      <th>6</th>\n",
       "      <td>Cashier grocery store sharing insights To prov...</td>\n",
       "      <td>positive</td>\n",
       "    </tr>\n",
       "  </tbody>\n",
       "</table>\n",
       "</div>"
      ],
      "text/plain": [
       "                                       OriginalTweet Sentiment\n",
       "0                                                      netural\n",
       "1  advice Talk neighbours family exchange phone n...  positive\n",
       "2  Coronavirus Australia: Woolworths give elderly...  positive\n",
       "5  As news regionÂs first confirmed COVID- case ...  positive\n",
       "6  Cashier grocery store sharing insights To prov...  positive"
      ]
     },
     "execution_count": 26,
     "metadata": {},
     "output_type": "execute_result"
    }
   ],
   "source": [
    "df_train.head()"
   ]
  },
  {
   "cell_type": "markdown",
   "metadata": {
    "papermill": {
     "duration": 0.053496,
     "end_time": "2020-12-03T16:57:24.854017",
     "exception": false,
     "start_time": "2020-12-03T16:57:24.800521",
     "status": "completed"
    },
    "tags": []
   },
   "source": [
    "### now mapping the sentiment  🤠 \n",
    "- 0: Netural \n",
    "- 1: Positive\n",
    "- 2: Negative"
   ]
  },
  {
   "cell_type": "code",
   "execution_count": 27,
   "metadata": {
    "execution": {
     "iopub.execute_input": "2020-12-03T16:57:24.969686Z",
     "iopub.status.busy": "2020-12-03T16:57:24.968619Z",
     "iopub.status.idle": "2020-12-03T16:57:24.971577Z",
     "shell.execute_reply": "2020-12-03T16:57:24.971086Z"
    },
    "papermill": {
     "duration": 0.063545,
     "end_time": "2020-12-03T16:57:24.971683",
     "exception": false,
     "start_time": "2020-12-03T16:57:24.908138",
     "status": "completed"
    },
    "tags": []
   },
   "outputs": [],
   "source": [
    "l = {\"netural\":0, \"positive\":1,\"negative\":2}"
   ]
  },
  {
   "cell_type": "code",
   "execution_count": 28,
   "metadata": {
    "execution": {
     "iopub.execute_input": "2020-12-03T16:57:25.092218Z",
     "iopub.status.busy": "2020-12-03T16:57:25.091299Z",
     "iopub.status.idle": "2020-12-03T16:57:25.097340Z",
     "shell.execute_reply": "2020-12-03T16:57:25.096750Z"
    },
    "papermill": {
     "duration": 0.070537,
     "end_time": "2020-12-03T16:57:25.097437",
     "exception": false,
     "start_time": "2020-12-03T16:57:25.026900",
     "status": "completed"
    },
    "tags": []
   },
   "outputs": [],
   "source": [
    "df_train['Sentiment'] = df_train['Sentiment'].map(l)\n",
    "df_test['Sentiment']  = df_test['Sentiment'].map(l)"
   ]
  },
  {
   "cell_type": "code",
   "execution_count": 29,
   "metadata": {
    "execution": {
     "iopub.execute_input": "2020-12-03T16:57:25.216739Z",
     "iopub.status.busy": "2020-12-03T16:57:25.215833Z",
     "iopub.status.idle": "2020-12-03T16:57:25.219321Z",
     "shell.execute_reply": "2020-12-03T16:57:25.219768Z"
    },
    "papermill": {
     "duration": 0.068158,
     "end_time": "2020-12-03T16:57:25.219891",
     "exception": false,
     "start_time": "2020-12-03T16:57:25.151733",
     "status": "completed"
    },
    "tags": []
   },
   "outputs": [
    {
     "data": {
      "text/html": [
       "<div>\n",
       "<style scoped>\n",
       "    .dataframe tbody tr th:only-of-type {\n",
       "        vertical-align: middle;\n",
       "    }\n",
       "\n",
       "    .dataframe tbody tr th {\n",
       "        vertical-align: top;\n",
       "    }\n",
       "\n",
       "    .dataframe thead th {\n",
       "        text-align: right;\n",
       "    }\n",
       "</style>\n",
       "<table border=\"1\" class=\"dataframe\">\n",
       "  <thead>\n",
       "    <tr style=\"text-align: right;\">\n",
       "      <th></th>\n",
       "      <th>OriginalTweet</th>\n",
       "      <th>Sentiment</th>\n",
       "    </tr>\n",
       "  </thead>\n",
       "  <tbody>\n",
       "    <tr>\n",
       "      <th>0</th>\n",
       "      <td></td>\n",
       "      <td>0</td>\n",
       "    </tr>\n",
       "    <tr>\n",
       "      <th>1</th>\n",
       "      <td>advice Talk neighbours family exchange phone n...</td>\n",
       "      <td>1</td>\n",
       "    </tr>\n",
       "    <tr>\n",
       "      <th>2</th>\n",
       "      <td>Coronavirus Australia: Woolworths give elderly...</td>\n",
       "      <td>1</td>\n",
       "    </tr>\n",
       "    <tr>\n",
       "      <th>5</th>\n",
       "      <td>As news regionÂs first confirmed COVID- case ...</td>\n",
       "      <td>1</td>\n",
       "    </tr>\n",
       "    <tr>\n",
       "      <th>6</th>\n",
       "      <td>Cashier grocery store sharing insights To prov...</td>\n",
       "      <td>1</td>\n",
       "    </tr>\n",
       "  </tbody>\n",
       "</table>\n",
       "</div>"
      ],
      "text/plain": [
       "                                       OriginalTweet  Sentiment\n",
       "0                                                             0\n",
       "1  advice Talk neighbours family exchange phone n...          1\n",
       "2  Coronavirus Australia: Woolworths give elderly...          1\n",
       "5  As news regionÂs first confirmed COVID- case ...          1\n",
       "6  Cashier grocery store sharing insights To prov...          1"
      ]
     },
     "execution_count": 29,
     "metadata": {},
     "output_type": "execute_result"
    }
   ],
   "source": [
    "df_train.head()"
   ]
  },
  {
   "cell_type": "code",
   "execution_count": 30,
   "metadata": {
    "execution": {
     "iopub.execute_input": "2020-12-03T16:57:25.336001Z",
     "iopub.status.busy": "2020-12-03T16:57:25.335272Z",
     "iopub.status.idle": "2020-12-03T16:57:25.338633Z",
     "shell.execute_reply": "2020-12-03T16:57:25.337980Z"
    },
    "papermill": {
     "duration": 0.064401,
     "end_time": "2020-12-03T16:57:25.338734",
     "exception": false,
     "start_time": "2020-12-03T16:57:25.274333",
     "status": "completed"
    },
    "tags": []
   },
   "outputs": [],
   "source": [
    "x_train = df_train['OriginalTweet'].copy()\n",
    "x_test = df_test['OriginalTweet'].copy()\n",
    "\n",
    "y_train = df_train['Sentiment'].copy()\n",
    "y_test = df_test['Sentiment'].copy()"
   ]
  },
  {
   "cell_type": "code",
   "execution_count": 31,
   "metadata": {
    "execution": {
     "iopub.execute_input": "2020-12-03T16:57:25.454659Z",
     "iopub.status.busy": "2020-12-03T16:57:25.453866Z",
     "iopub.status.idle": "2020-12-03T16:57:25.457220Z",
     "shell.execute_reply": "2020-12-03T16:57:25.457745Z"
    },
    "papermill": {
     "duration": 0.063361,
     "end_time": "2020-12-03T16:57:25.457862",
     "exception": false,
     "start_time": "2020-12-03T16:57:25.394501",
     "status": "completed"
    },
    "tags": []
   },
   "outputs": [
    {
     "data": {
      "text/plain": [
       "((32567,), (32567,), (2964,), (2964,))"
      ]
     },
     "execution_count": 31,
     "metadata": {},
     "output_type": "execute_result"
    }
   ],
   "source": [
    "x_train.shape, y_train.shape,x_test.shape, y_test.shape"
   ]
  },
  {
   "cell_type": "markdown",
   "metadata": {
    "papermill": {
     "duration": 0.054575,
     "end_time": "2020-12-03T16:57:25.567538",
     "exception": false,
     "start_time": "2020-12-03T16:57:25.512963",
     "status": "completed"
    },
    "tags": []
   },
   "source": [
    "#### Maxiumn lenght of sequence  😧 "
   ]
  },
  {
   "cell_type": "code",
   "execution_count": 32,
   "metadata": {
    "execution": {
     "iopub.execute_input": "2020-12-03T16:57:25.685786Z",
     "iopub.status.busy": "2020-12-03T16:57:25.684960Z",
     "iopub.status.idle": "2020-12-03T16:57:25.710743Z",
     "shell.execute_reply": "2020-12-03T16:57:25.710249Z"
    },
    "papermill": {
     "duration": 0.086271,
     "end_time": "2020-12-03T16:57:25.710866",
     "exception": false,
     "start_time": "2020-12-03T16:57:25.624595",
     "status": "completed"
    },
    "tags": []
   },
   "outputs": [],
   "source": [
    "max_len = np.max(x_train.apply(lambda x :len(x)))"
   ]
  },
  {
   "cell_type": "code",
   "execution_count": 33,
   "metadata": {
    "execution": {
     "iopub.execute_input": "2020-12-03T16:57:25.826415Z",
     "iopub.status.busy": "2020-12-03T16:57:25.825617Z",
     "iopub.status.idle": "2020-12-03T16:57:25.829358Z",
     "shell.execute_reply": "2020-12-03T16:57:25.829869Z"
    },
    "papermill": {
     "duration": 0.063399,
     "end_time": "2020-12-03T16:57:25.829987",
     "exception": false,
     "start_time": "2020-12-03T16:57:25.766588",
     "status": "completed"
    },
    "tags": []
   },
   "outputs": [
    {
     "data": {
      "text/plain": [
       "286"
      ]
     },
     "execution_count": 33,
     "metadata": {},
     "output_type": "execute_result"
    }
   ],
   "source": [
    "max_len"
   ]
  },
  {
   "cell_type": "markdown",
   "metadata": {
    "papermill": {
     "duration": 0.061884,
     "end_time": "2020-12-03T16:57:25.948058",
     "exception": false,
     "start_time": "2020-12-03T16:57:25.886174",
     "status": "completed"
    },
    "tags": []
   },
   "source": [
    "### Tokenizer initlization  🤑 "
   ]
  },
  {
   "cell_type": "code",
   "execution_count": 34,
   "metadata": {
    "execution": {
     "iopub.execute_input": "2020-12-03T16:57:26.066303Z",
     "iopub.status.busy": "2020-12-03T16:57:26.065518Z",
     "iopub.status.idle": "2020-12-03T16:57:26.067958Z",
     "shell.execute_reply": "2020-12-03T16:57:26.068556Z"
    },
    "papermill": {
     "duration": 0.064716,
     "end_time": "2020-12-03T16:57:26.068677",
     "exception": false,
     "start_time": "2020-12-03T16:57:26.003961",
     "status": "completed"
    },
    "tags": []
   },
   "outputs": [],
   "source": [
    "tokenizer = Tokenizer()"
   ]
  },
  {
   "cell_type": "code",
   "execution_count": 35,
   "metadata": {
    "execution": {
     "iopub.execute_input": "2020-12-03T16:57:26.220581Z",
     "iopub.status.busy": "2020-12-03T16:57:26.205250Z",
     "iopub.status.idle": "2020-12-03T16:57:28.398694Z",
     "shell.execute_reply": "2020-12-03T16:57:28.397618Z"
    },
    "papermill": {
     "duration": 2.274196,
     "end_time": "2020-12-03T16:57:28.398814",
     "exception": false,
     "start_time": "2020-12-03T16:57:26.124618",
     "status": "completed"
    },
    "tags": []
   },
   "outputs": [],
   "source": [
    "tokenizer.fit_on_texts(x_train)\n",
    "vocab_length = len(tokenizer.word_index) + 1\n",
    "\n",
    "x_train = tokenizer.texts_to_sequences(x_train)\n",
    "x_test = tokenizer.texts_to_sequences(x_test)\n",
    "\n",
    "x_train = pad_sequences(x_train, maxlen=max_len, padding='post')\n",
    "x_test = pad_sequences(x_test, maxlen=max_len, padding='post')"
   ]
  },
  {
   "cell_type": "code",
   "execution_count": 36,
   "metadata": {
    "execution": {
     "iopub.execute_input": "2020-12-03T16:57:28.520611Z",
     "iopub.status.busy": "2020-12-03T16:57:28.519331Z",
     "iopub.status.idle": "2020-12-03T16:57:28.522690Z",
     "shell.execute_reply": "2020-12-03T16:57:28.521156Z"
    },
    "papermill": {
     "duration": 0.066244,
     "end_time": "2020-12-03T16:57:28.522803",
     "exception": false,
     "start_time": "2020-12-03T16:57:28.456559",
     "status": "completed"
    },
    "tags": []
   },
   "outputs": [
    {
     "name": "stdout",
     "output_type": "stream",
     "text": [
      "Vocab length: 31759\n",
      "Max sequence length: 286\n"
     ]
    }
   ],
   "source": [
    "print(\"Vocab length:\", vocab_length)\n",
    "print(\"Max sequence length:\", max_len)"
   ]
  },
  {
   "cell_type": "code",
   "execution_count": 37,
   "metadata": {
    "execution": {
     "iopub.execute_input": "2020-12-03T16:57:28.641860Z",
     "iopub.status.busy": "2020-12-03T16:57:28.641232Z",
     "iopub.status.idle": "2020-12-03T16:57:28.645317Z",
     "shell.execute_reply": "2020-12-03T16:57:28.644844Z"
    },
    "papermill": {
     "duration": 0.065612,
     "end_time": "2020-12-03T16:57:28.645415",
     "exception": false,
     "start_time": "2020-12-03T16:57:28.579803",
     "status": "completed"
    },
    "tags": []
   },
   "outputs": [],
   "source": [
    "embedding_dim = 16"
   ]
  },
  {
   "cell_type": "markdown",
   "metadata": {
    "papermill": {
     "duration": 0.0571,
     "end_time": "2020-12-03T16:57:28.760065",
     "exception": false,
     "start_time": "2020-12-03T16:57:28.702965",
     "status": "completed"
    },
    "tags": []
   },
   "source": [
    "## Model Creation  😍 "
   ]
  },
  {
   "cell_type": "code",
   "execution_count": 38,
   "metadata": {
    "execution": {
     "iopub.execute_input": "2020-12-03T16:57:28.932497Z",
     "iopub.status.busy": "2020-12-03T16:57:28.925901Z",
     "iopub.status.idle": "2020-12-03T16:57:32.592572Z",
     "shell.execute_reply": "2020-12-03T16:57:32.591981Z"
    },
    "papermill": {
     "duration": 3.775337,
     "end_time": "2020-12-03T16:57:32.592682",
     "exception": false,
     "start_time": "2020-12-03T16:57:28.817345",
     "status": "completed"
    },
    "tags": []
   },
   "outputs": [],
   "source": [
    "model = tf.keras.Sequential([\n",
    "    tf.keras.layers.Embedding(vocab_length, embedding_dim, input_length=max_len),\n",
    "    tf.keras.layers.Bidirectional(tf.keras.layers.GRU(256, return_sequences=True)),\n",
    "    tf.keras.layers.GlobalAveragePooling1D(),\n",
    "    tf.keras.layers.Dense(64, activation='relu'),\n",
    "    tf.keras.layers.Dropout(0.4),\n",
    "    tf.keras.layers.Dense(3, activation='softmax')\n",
    "])\n",
    "# opt = tf.keras.optimizers.Adam(learning_rate=0.01)\n",
    "model.compile(loss='categorical_crossentropy',optimizer=\"adam\",metrics=['accuracy'])"
   ]
  },
  {
   "cell_type": "code",
   "execution_count": 39,
   "metadata": {
    "execution": {
     "iopub.execute_input": "2020-12-03T16:57:32.719341Z",
     "iopub.status.busy": "2020-12-03T16:57:32.718196Z",
     "iopub.status.idle": "2020-12-03T16:57:32.722418Z",
     "shell.execute_reply": "2020-12-03T16:57:32.722969Z"
    },
    "papermill": {
     "duration": 0.07122,
     "end_time": "2020-12-03T16:57:32.723104",
     "exception": false,
     "start_time": "2020-12-03T16:57:32.651884",
     "status": "completed"
    },
    "tags": []
   },
   "outputs": [
    {
     "name": "stdout",
     "output_type": "stream",
     "text": [
      "Model: \"sequential\"\n",
      "_________________________________________________________________\n",
      "Layer (type)                 Output Shape              Param #   \n",
      "=================================================================\n",
      "embedding (Embedding)        (None, 286, 16)           508144    \n",
      "_________________________________________________________________\n",
      "bidirectional (Bidirectional (None, 286, 512)          420864    \n",
      "_________________________________________________________________\n",
      "global_average_pooling1d (Gl (None, 512)               0         \n",
      "_________________________________________________________________\n",
      "dense (Dense)                (None, 64)                32832     \n",
      "_________________________________________________________________\n",
      "dropout (Dropout)            (None, 64)                0         \n",
      "_________________________________________________________________\n",
      "dense_1 (Dense)              (None, 3)                 195       \n",
      "=================================================================\n",
      "Total params: 962,035\n",
      "Trainable params: 962,035\n",
      "Non-trainable params: 0\n",
      "_________________________________________________________________\n",
      "None\n"
     ]
    }
   ],
   "source": [
    "print(model.summary())"
   ]
  },
  {
   "cell_type": "code",
   "execution_count": 40,
   "metadata": {
    "execution": {
     "iopub.execute_input": "2020-12-03T16:57:32.843740Z",
     "iopub.status.busy": "2020-12-03T16:57:32.842905Z",
     "iopub.status.idle": "2020-12-03T16:57:33.416653Z",
     "shell.execute_reply": "2020-12-03T16:57:33.417259Z"
    },
    "papermill": {
     "duration": 0.636522,
     "end_time": "2020-12-03T16:57:33.417448",
     "exception": false,
     "start_time": "2020-12-03T16:57:32.780926",
     "status": "completed"
    },
    "tags": []
   },
   "outputs": [
    {
     "data": {
      "image/png": "[encoded data removed]",
      "text/plain": [
       "<IPython.core.display.Image object>"
      ]
     },
     "execution_count": 40,
     "metadata": {},
     "output_type": "execute_result"
    }
   ],
   "source": [
    "tf.keras.utils.plot_model(model)"
   ]
  },
  {
   "cell_type": "code",
   "execution_count": 41,
   "metadata": {
    "execution": {
     "iopub.execute_input": "2020-12-03T16:57:33.559240Z",
     "iopub.status.busy": "2020-12-03T16:57:33.558265Z",
     "iopub.status.idle": "2020-12-03T16:57:33.563305Z",
     "shell.execute_reply": "2020-12-03T16:57:33.562840Z"
    },
    "papermill": {
     "duration": 0.069904,
     "end_time": "2020-12-03T16:57:33.563418",
     "exception": false,
     "start_time": "2020-12-03T16:57:33.493514",
     "status": "completed"
    },
    "tags": []
   },
   "outputs": [
    {
     "data": {
      "text/plain": [
       "((32567, 286), (2964, 286), (32567,), (2964,))"
      ]
     },
     "execution_count": 41,
     "metadata": {},
     "output_type": "execute_result"
    }
   ],
   "source": [
    "x_train.shape, x_test.shape, y_train.shape, y_test.shape"
   ]
  },
  {
   "cell_type": "code",
   "execution_count": 42,
   "metadata": {
    "execution": {
     "iopub.execute_input": "2020-12-03T16:57:33.691522Z",
     "iopub.status.busy": "2020-12-03T16:57:33.690559Z",
     "iopub.status.idle": "2020-12-03T16:57:33.696072Z",
     "shell.execute_reply": "2020-12-03T16:57:33.695504Z"
    },
    "papermill": {
     "duration": 0.071824,
     "end_time": "2020-12-03T16:57:33.696178",
     "exception": false,
     "start_time": "2020-12-03T16:57:33.624354",
     "status": "completed"
    },
    "tags": []
   },
   "outputs": [],
   "source": [
    "from keras.utils import to_categorical\n",
    "\n",
    "y_train = to_categorical(y_train, 3)\n",
    "y_test = to_categorical(y_test, 3)"
   ]
  },
  {
   "cell_type": "markdown",
   "metadata": {
    "papermill": {
     "duration": 0.059279,
     "end_time": "2020-12-03T16:57:33.816603",
     "exception": false,
     "start_time": "2020-12-03T16:57:33.757324",
     "status": "completed"
    },
    "tags": []
   },
   "source": [
    "## Model training 🥱 😴"
   ]
  },
  {
   "cell_type": "code",
   "execution_count": 43,
   "metadata": {
    "execution": {
     "iopub.execute_input": "2020-12-03T16:57:33.957605Z",
     "iopub.status.busy": "2020-12-03T16:57:33.956692Z",
     "iopub.status.idle": "2020-12-03T17:04:52.636363Z",
     "shell.execute_reply": "2020-12-03T17:04:52.635839Z"
    },
    "papermill": {
     "duration": 438.761074,
     "end_time": "2020-12-03T17:04:52.636508",
     "exception": false,
     "start_time": "2020-12-03T16:57:33.875434",
     "status": "completed"
    },
    "tags": []
   },
   "outputs": [
    {
     "name": "stdout",
     "output_type": "stream",
     "text": [
      "Epoch 1/10\n",
      "1018/1018 [==============================] - 43s 43ms/step - loss: 0.9388 - accuracy: 0.5369 - val_loss: 0.7526 - val_accuracy: 0.6775\n",
      "Epoch 2/10\n",
      "1018/1018 [==============================] - 43s 42ms/step - loss: 0.5347 - accuracy: 0.8066 - val_loss: 0.4616 - val_accuracy: 0.8327\n",
      "Epoch 3/10\n",
      "1018/1018 [==============================] - 43s 43ms/step - loss: 0.3236 - accuracy: 0.8966 - val_loss: 0.4281 - val_accuracy: 0.8539\n",
      "Epoch 4/10\n",
      "1018/1018 [==============================] - 43s 42ms/step - loss: 0.2269 - accuracy: 0.9325 - val_loss: 0.4992 - val_accuracy: 0.8428\n",
      "Epoch 5/10\n",
      "1018/1018 [==============================] - 43s 42ms/step - loss: 0.1723 - accuracy: 0.9485 - val_loss: 0.5168 - val_accuracy: 0.8465\n",
      "Epoch 6/10\n",
      "1018/1018 [==============================] - 43s 43ms/step - loss: 0.1324 - accuracy: 0.9603 - val_loss: 0.6223 - val_accuracy: 0.8310\n",
      "Epoch 7/10\n",
      "1018/1018 [==============================] - 43s 43ms/step - loss: 0.1067 - accuracy: 0.9672 - val_loss: 0.6263 - val_accuracy: 0.8360\n",
      "Epoch 8/10\n",
      "1018/1018 [==============================] - 43s 42ms/step - loss: 0.0870 - accuracy: 0.9729 - val_loss: 0.7223 - val_accuracy: 0.8117\n",
      "Epoch 9/10\n",
      "1018/1018 [==============================] - 44s 43ms/step - loss: 0.0750 - accuracy: 0.9763 - val_loss: 0.8701 - val_accuracy: 0.8121\n",
      "Epoch 10/10\n",
      "1018/1018 [==============================] - 43s 43ms/step - loss: 0.0621 - accuracy: 0.9804 - val_loss: 0.8752 - val_accuracy: 0.7935\n"
     ]
    }
   ],
   "source": [
    "num_epochs = 10\n",
    "history = model.fit(x_train, y_train, epochs=num_epochs, \n",
    "                    validation_data=(x_test, y_test))"
   ]
  },
  {
   "cell_type": "code",
   "execution_count": 44,
   "metadata": {
    "execution": {
     "iopub.execute_input": "2020-12-03T17:04:56.577844Z",
     "iopub.status.busy": "2020-12-03T17:04:56.577011Z",
     "iopub.status.idle": "2020-12-03T17:04:56.579676Z",
     "shell.execute_reply": "2020-12-03T17:04:56.580107Z"
    },
    "papermill": {
     "duration": 1.911976,
     "end_time": "2020-12-03T17:04:56.580239",
     "exception": false,
     "start_time": "2020-12-03T17:04:54.668263",
     "status": "completed"
    },
    "tags": []
   },
   "outputs": [],
   "source": [
    "acc = history.history['accuracy']\n",
    "val_acc = history.history['val_accuracy']\n",
    "\n",
    "loss = history.history['loss']\n",
    "val_loss = history.history['val_loss']"
   ]
  },
  {
   "cell_type": "markdown",
   "metadata": {
    "papermill": {
     "duration": 1.918466,
     "end_time": "2020-12-03T17:05:00.345317",
     "exception": false,
     "start_time": "2020-12-03T17:04:58.426851",
     "status": "completed"
    },
    "tags": []
   },
   "source": [
    "## Model Accuracy and loss  😵 "
   ]
  },
  {
   "cell_type": "code",
   "execution_count": 45,
   "metadata": {
    "execution": {
     "iopub.execute_input": "2020-12-03T17:05:04.114084Z",
     "iopub.status.busy": "2020-12-03T17:05:04.112039Z",
     "iopub.status.idle": "2020-12-03T17:05:04.117483Z",
     "shell.execute_reply": "2020-12-03T17:05:04.114823Z"
    },
    "papermill": {
     "duration": 1.904332,
     "end_time": "2020-12-03T17:05:04.117678",
     "exception": false,
     "start_time": "2020-12-03T17:05:02.213346",
     "status": "completed"
    },
    "tags": []
   },
   "outputs": [
    {
     "name": "stdout",
     "output_type": "stream",
     "text": [
      "Accuracy on training data is:- 98.04096221923828 %\n",
      "Loss 6.208620965480804\n",
      "Accuracy on validation data is:- 79.35222387313843 %\n",
      "Loss 87.52033114433289\n"
     ]
    }
   ],
   "source": [
    "print(f\"Accuracy on training data is:- {acc[-1]*100} %\")\n",
    "print(f\"Loss {loss[-1]*100}\")\n",
    "\n",
    "print(f\"Accuracy on validation data is:- {val_acc[-1]*100} %\")\n",
    "print(f\"Loss {val_loss[-1]*100}\")\n"
   ]
  },
  {
   "cell_type": "markdown",
   "metadata": {
    "papermill": {
     "duration": 1.911384,
     "end_time": "2020-12-03T17:05:08.696739",
     "exception": false,
     "start_time": "2020-12-03T17:05:06.785355",
     "status": "completed"
    },
    "tags": []
   },
   "source": [
    "## Plotting  🤪 "
   ]
  },
  {
   "cell_type": "code",
   "execution_count": 46,
   "metadata": {
    "execution": {
     "iopub.execute_input": "2020-12-03T17:05:12.476881Z",
     "iopub.status.busy": "2020-12-03T17:05:12.472813Z",
     "iopub.status.idle": "2020-12-03T17:05:13.010887Z",
     "shell.execute_reply": "2020-12-03T17:05:13.011493Z"
    },
    "papermill": {
     "duration": 2.443054,
     "end_time": "2020-12-03T17:05:13.011642",
     "exception": false,
     "start_time": "2020-12-03T17:05:10.568588",
     "status": "completed"
    },
    "tags": []
   },
   "outputs": [
    {
     "data": {
      "image/png": "[encoded data removed]",
      "text/plain": [
       "<Figure size 792x288 with 1 Axes>"
      ]
     },
     "metadata": {},
     "output_type": "display_data"
    },
    {
     "data": {
      "image/png": "[encoded data removed]",
      "text/plain": [
       "<Figure size 792x288 with 1 Axes>"
      ]
     },
     "metadata": {},
     "output_type": "display_data"
    }
   ],
   "source": [
    "epochs = range(len(acc))\n",
    "\n",
    "plt.plot(epochs, acc,'b',label='training acc')\n",
    "plt.plot(epochs, val_acc, 'r', label='validation acc')\n",
    "plt.legend()\n",
    "plt.show()\n",
    "\n",
    "\n",
    "plt.plot(epochs, loss,'b',label='training loss')\n",
    "plt.plot(epochs, val_loss, 'r', label='validation loss')\n",
    "plt.legend()\n",
    "plt.show()\n"
   ]
  },
  {
   "cell_type": "code",
   "execution_count": 47,
   "metadata": {
    "execution": {
     "iopub.execute_input": "2020-12-03T17:05:17.046170Z",
     "iopub.status.busy": "2020-12-03T17:05:17.045298Z",
     "iopub.status.idle": "2020-12-03T17:05:18.831403Z",
     "shell.execute_reply": "2020-12-03T17:05:18.830318Z"
    },
    "papermill": {
     "duration": 3.952434,
     "end_time": "2020-12-03T17:05:18.831559",
     "exception": false,
     "start_time": "2020-12-03T17:05:14.879125",
     "status": "completed"
    },
    "tags": []
   },
   "outputs": [],
   "source": [
    "pred = model.predict_classes(x_test)"
   ]
  },
  {
   "cell_type": "markdown",
   "metadata": {
    "papermill": {
     "duration": 1.855076,
     "end_time": "2020-12-03T17:05:22.515031",
     "exception": false,
     "start_time": "2020-12-03T17:05:20.659955",
     "status": "completed"
    },
    "tags": []
   },
   "source": [
    "## Confusion Matrix  🤔 "
   ]
  },
  {
   "cell_type": "code",
   "execution_count": 48,
   "metadata": {
    "execution": {
     "iopub.execute_input": "2020-12-03T17:05:26.229153Z",
     "iopub.status.busy": "2020-12-03T17:05:26.228229Z",
     "iopub.status.idle": "2020-12-03T17:05:26.242565Z",
     "shell.execute_reply": "2020-12-03T17:05:26.243072Z"
    },
    "papermill": {
     "duration": 1.890002,
     "end_time": "2020-12-03T17:05:26.243215",
     "exception": false,
     "start_time": "2020-12-03T17:05:24.353213",
     "status": "completed"
    },
    "tags": []
   },
   "outputs": [
    {
     "data": {
      "text/plain": [
       "array([[ 389,   34,   74],\n",
       "       [ 131,  901,  175],\n",
       "       [  91,  107, 1062]])"
      ]
     },
     "execution_count": 48,
     "metadata": {},
     "output_type": "execute_result"
    }
   ],
   "source": [
    "cm = confusion_matrix(np.argmax(y_test,1),pred)\n",
    "cm"
   ]
  },
  {
   "cell_type": "code",
   "execution_count": 49,
   "metadata": {
    "execution": {
     "iopub.execute_input": "2020-12-03T17:05:30.547814Z",
     "iopub.status.busy": "2020-12-03T17:05:30.546803Z",
     "iopub.status.idle": "2020-12-03T17:05:30.756055Z",
     "shell.execute_reply": "2020-12-03T17:05:30.756816Z"
    },
    "papermill": {
     "duration": 2.436484,
     "end_time": "2020-12-03T17:05:30.756981",
     "exception": false,
     "start_time": "2020-12-03T17:05:28.320497",
     "status": "completed"
    },
    "tags": []
   },
   "outputs": [
    {
     "data": {
      "text/plain": [
       "<matplotlib.axes._subplots.AxesSubplot at 0x7f8a58593a10>"
      ]
     },
     "execution_count": 49,
     "metadata": {},
     "output_type": "execute_result"
    },
    {
     "data": {
      "image/png": "[encoded data removed]",
      "text/plain": [
       "<Figure size 792x288 with 2 Axes>"
      ]
     },
     "metadata": {},
     "output_type": "display_data"
    }
   ],
   "source": [
    "sns.heatmap(cm,annot=True)"
   ]
  },
  {
   "cell_type": "markdown",
   "metadata": {
    "papermill": {
     "duration": 2.088826,
     "end_time": "2020-12-03T17:05:34.741592",
     "exception": false,
     "start_time": "2020-12-03T17:05:32.652766",
     "status": "completed"
    },
    "tags": []
   },
   "source": [
    "## Classification Report  🤫 "
   ]
  },
  {
   "cell_type": "code",
   "execution_count": 50,
   "metadata": {
    "execution": {
     "iopub.execute_input": "2020-12-03T17:05:38.878846Z",
     "iopub.status.busy": "2020-12-03T17:05:38.869889Z",
     "iopub.status.idle": "2020-12-03T17:05:38.896009Z",
     "shell.execute_reply": "2020-12-03T17:05:38.896974Z"
    },
    "papermill": {
     "duration": 2.273107,
     "end_time": "2020-12-03T17:05:38.897170",
     "exception": false,
     "start_time": "2020-12-03T17:05:36.624063",
     "status": "completed"
    },
    "tags": []
   },
   "outputs": [
    {
     "name": "stdout",
     "output_type": "stream",
     "text": [
      "              precision    recall  f1-score   support\n",
      "\n",
      "           0       0.64      0.78      0.70       497\n",
      "           1       0.86      0.75      0.80      1207\n",
      "           2       0.81      0.84      0.83      1260\n",
      "\n",
      "    accuracy                           0.79      2964\n",
      "   macro avg       0.77      0.79      0.78      2964\n",
      "weighted avg       0.80      0.79      0.80      2964\n",
      "\n"
     ]
    }
   ],
   "source": [
    "print(classification_report(np.argmax(y_test,1),pred))"
   ]
  },
  {
   "cell_type": "markdown",
   "metadata": {
    "papermill": {
     "duration": 1.937025,
     "end_time": "2020-12-03T17:05:43.190142",
     "exception": false,
     "start_time": "2020-12-03T17:05:41.253117",
     "status": "completed"
    },
    "tags": []
   },
   "source": [
    "## if you've learned something from this kernal then please \"UPVOTE\"  🤭 "
   ]
  },
  {
   "cell_type": "markdown",
   "metadata": {
    "papermill": {
     "duration": 1.86436,
     "end_time": "2020-12-03T17:05:46.985284",
     "exception": false,
     "start_time": "2020-12-03T17:05:45.120924",
     "status": "completed"
    },
    "tags": []
   },
   "source": [
    "## Thanks for Watching!!  🙏 \n",
    "\n",
    "- Happy Learning 😍 "
   ]
  },
  {
   "cell_type": "code",
   "execution_count": null,
   "metadata": {
    "papermill": {
     "duration": 2.057462,
     "end_time": "2020-12-03T17:05:50.876340",
     "exception": false,
     "start_time": "2020-12-03T17:05:48.818878",
     "status": "completed"
    },
    "tags": []
   },
   "outputs": [],
   "source": []
  }
 ],
 "metadata": {
  "kernelspec": {
   "display_name": "598",
   "language": "python",
   "name": "python3"
  },
  "language_info": {
   "codemirror_mode": {
    "name": "ipython",
    "version": 3
   },
   "file_extension": ".py",
   "mimetype": "text/x-python",
   "name": "python",
   "nbconvert_exporter": "python",
   "pygments_lexer": "ipython3",
   "version": "3.9.16 (main, Jan 11 2023, 10:02:19) \n[Clang 14.0.6 ]"
  },
  "papermill": {
   "duration": 529.881382,
   "end_time": "2020-12-03T17:05:54.212385",
   "environment_variables": {},
   "exception": null,
   "input_path": "__notebook__.ipynb",
   "output_path": "__notebook__.ipynb",
   "parameters": {},
   "start_time": "2020-12-03T16:57:04.331003",
   "version": "2.1.0"
  },
  "vscode": {
   "interpreter": {
    "hash": "68fac705b933e35d1083874d19d97ec2868a0ce5564b9ce5cf66904fad9c87ee"
   }
  }
 },
 "nbformat": 4,
 "nbformat_minor": 4
}
